{
 "cells": [
  {
   "cell_type": "code",
   "execution_count": 18,
   "metadata": {},
   "outputs": [],
   "source": [
    "import numpy as np\n",
    "import matplotlib.pyplot as plt\n",
    "import pandas as pd\n",
    "import seaborn as sns\n",
    "\n",
    "import requests\n",
    "from bs4 import BeautifulSoup"
   ]
  },
  {
   "cell_type": "code",
   "execution_count": 15,
   "metadata": {},
   "outputs": [
    {
     "data": {
      "application/vnd.microsoft.datawrangler.viewer.v0+json": {
       "columns": [
        {
         "name": "index",
         "rawType": "int64",
         "type": "integer"
        },
        {
         "name": "Specification",
         "rawType": "object",
         "type": "string"
        },
        {
         "name": "Value",
         "rawType": "object",
         "type": "string"
        }
       ],
       "conversionMethod": "pd.DataFrame",
       "ref": "93efe00c-4cdf-4767-af9a-f14013909a96",
       "rows": [
        [
         "0",
         "Display Size",
         "6.7 inches (17.00 cm)"
        ],
        [
         "1",
         "Display Type",
         "Super Retina XDR"
        ],
        [
         "2",
         "Resolution",
         "2796x1290 pixels"
        ],
        [
         "3",
         "CPU Model",
         "A18"
        ],
        [
         "4",
         "Internal Storage",
         "128 GB"
        ]
       ],
       "shape": {
        "columns": 2,
        "rows": 5
       }
      },
      "text/html": [
       "<div>\n",
       "<style scoped>\n",
       "    .dataframe tbody tr th:only-of-type {\n",
       "        vertical-align: middle;\n",
       "    }\n",
       "\n",
       "    .dataframe tbody tr th {\n",
       "        vertical-align: top;\n",
       "    }\n",
       "\n",
       "    .dataframe thead th {\n",
       "        text-align: right;\n",
       "    }\n",
       "</style>\n",
       "<table border=\"1\" class=\"dataframe\">\n",
       "  <thead>\n",
       "    <tr style=\"text-align: right;\">\n",
       "      <th></th>\n",
       "      <th>Specification</th>\n",
       "      <th>Value</th>\n",
       "    </tr>\n",
       "  </thead>\n",
       "  <tbody>\n",
       "    <tr>\n",
       "      <th>0</th>\n",
       "      <td>Display Size</td>\n",
       "      <td>6.7 inches (17.00 cm)</td>\n",
       "    </tr>\n",
       "    <tr>\n",
       "      <th>1</th>\n",
       "      <td>Display Type</td>\n",
       "      <td>Super Retina XDR</td>\n",
       "    </tr>\n",
       "    <tr>\n",
       "      <th>2</th>\n",
       "      <td>Resolution</td>\n",
       "      <td>2796x1290 pixels</td>\n",
       "    </tr>\n",
       "    <tr>\n",
       "      <th>3</th>\n",
       "      <td>CPU Model</td>\n",
       "      <td>A18</td>\n",
       "    </tr>\n",
       "    <tr>\n",
       "      <th>4</th>\n",
       "      <td>Internal Storage</td>\n",
       "      <td>128 GB</td>\n",
       "    </tr>\n",
       "  </tbody>\n",
       "</table>\n",
       "</div>"
      ],
      "text/plain": [
       "      Specification                  Value\n",
       "0      Display Size  6.7 inches (17.00 cm)\n",
       "1      Display Type       Super Retina XDR\n",
       "2        Resolution       2796x1290 pixels\n",
       "3         CPU Model                    A18\n",
       "4  Internal Storage                 128 GB"
      ]
     },
     "execution_count": 15,
     "metadata": {},
     "output_type": "execute_result"
    }
   ],
   "source": [
    "data = pd.read_html(r\"https://www.amazon.in/iPhone-16-128-GB-Ultramarine/dp/B0DGJ7TGDR/ref=sr_1_14?s=electronics&sr=1-14\")\n",
    "# Define the data\n",
    "data = {\n",
    "    \"Specification\": [\n",
    "        \"Display Size\",\n",
    "        \"Display Type\",\n",
    "        \"Resolution\",\n",
    "        \"CPU Model\",\n",
    "        \"Internal Storage\",\n",
    "        \"RAM\",\n",
    "        \"Primary Camera\",\n",
    "        \"Operating System\",\n",
    "        \"Battery Life\",\n",
    "        \"Color\"\n",
    "    ],\n",
    "    \"Value\": [\n",
    "        \"6.7 inches (17.00 cm)\",  # For iPhone 16 Plus\n",
    "        \"Super Retina XDR\",\n",
    "        \"2796x1290 pixels\",\n",
    "        \"A18\",\n",
    "        \"128 GB\",\n",
    "        \"Not specified\",  # RAM is not explicitly mentioned for iPhone 16 models\n",
    "        \"Advanced camera system (details not specified)\",\n",
    "        \"iOS 17\",\n",
    "        \"Long-lasting (details not specified)\",\n",
    "        \"Ultramarine\"\n",
    "    ]\n",
    "}\n",
    "\n",
    "# Create the DataFrame\n",
    "df = pd.DataFrame(data)\n",
    "\n",
    "df.head()\n"
   ]
  },
  {
   "cell_type": "code",
   "execution_count": 23,
   "metadata": {},
   "outputs": [
    {
     "name": "stdout",
     "output_type": "stream",
     "text": [
      "No tables found in the HTML file.\n"
     ]
    }
   ],
   "source": [
    "raw_data = pd.read_html(r\"D:\\Work_Station\\api\\response.html\")\n",
    "# Assuming there's at least one table in the HTML, select the first one\n",
    "if raw_data:\n",
    "    new = raw_data[0]\n",
    "    print(new)\n",
    "else:\n",
    "    print(\"No tables found in the HTML file.\")"
   ]
  },
  {
   "cell_type": "code",
   "execution_count": null,
   "metadata": {},
   "outputs": [],
   "source": []
  }
 ],
 "metadata": {
  "kernelspec": {
   "display_name": "ollama",
   "language": "python",
   "name": "python3"
  },
  "language_info": {
   "codemirror_mode": {
    "name": "ipython",
    "version": 3
   },
   "file_extension": ".py",
   "mimetype": "text/x-python",
   "name": "python",
   "nbconvert_exporter": "python",
   "pygments_lexer": "ipython3",
   "version": "3.9.21"
  }
 },
 "nbformat": 4,
 "nbformat_minor": 2
}
